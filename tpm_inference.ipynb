{
 "cells": [
  {
   "cell_type": "code",
   "execution_count": 1,
   "metadata": {},
   "outputs": [],
   "source": [
    "import pandas as pd\n",
    "import numpy as np\n",
    "import optuna\n",
    "import os"
   ]
  },
  {
   "cell_type": "code",
   "execution_count": 2,
   "metadata": {},
   "outputs": [],
   "source": [
    "from tools.ModelOptimizer import ModelOptimizer"
   ]
  },
  {
   "cell_type": "code",
   "execution_count": 3,
   "metadata": {},
   "outputs": [],
   "source": [
    "# Initialize the optimizer with all necessary paths\n",
    "optimizer = ModelOptimizer(\n",
    "    label_data_path='./data/shalem_15.txt',\n",
    "    dataset_path='./data/ds_embeddings/shalem_15/reduced_embeddings/',\n",
    "    save_path='./data/optuna_results/optuna_results.json'\n",
    ")"
   ]
  },
  {
   "cell_type": "code",
   "execution_count": 4,
   "metadata": {},
   "outputs": [
    {
     "name": "stderr",
     "output_type": "stream",
     "text": [
      "[I 2023-11-24 18:33:55,945] A new study created in memory with name: no-name-bab1c7d0-1993-46ab-928b-c3fdf5b1bfc4\n"
     ]
    },
    {
     "name": "stdout",
     "output_type": "stream",
     "text": [
      "y shape:  (14171,)\n",
      "\n",
      "File being processed in hyperparameter optimization:\n",
      " ./data/ds_embeddings/shalem_15/reduced_embeddings/pca_components_2.npy\n",
      "X_train and y_train have different lengths, likely, this is due to the run_inference.py batching, so we will trim the y_train\n"
     ]
    },
    {
     "name": "stderr",
     "output_type": "stream",
     "text": [
      "[I 2023-11-24 18:33:57,162] Trial 0 finished with value: 0.007214848837403864 and parameters: {'classifier': 'XGBoost', 'n_estimators': 126, 'max_depth': 1, 'learning_rate': 0.05683583301841496}. Best is trial 0 with value: 0.007214848837403864.\n",
      "[I 2023-11-24 18:34:02,609] Trial 1 finished with value: -0.3613945067555573 and parameters: {'classifier': 'XGBoost', 'n_estimators': 184, 'max_depth': 19, 'learning_rate': 0.03845539849089292}. Best is trial 0 with value: 0.007214848837403864.\n",
      "[I 2023-11-24 18:34:03,059] Trial 2 finished with value: 0.021024842116568937 and parameters: {'classifier': 'Ridge', 'alpha': 5.006224101855194}. Best is trial 2 with value: 0.021024842116568937.\n",
      "[I 2023-11-24 18:34:04,705] Trial 3 finished with value: -0.04847689740255684 and parameters: {'classifier': 'RandomForest', 'n_estimators': 137, 'max_depth': 16}. Best is trial 2 with value: 0.021024842116568937.\n",
      "[I 2023-11-24 18:34:06,653] Trial 4 finished with value: -0.03396228626111164 and parameters: {'classifier': 'RandomForest', 'n_estimators': 190, 'max_depth': 14}. Best is trial 2 with value: 0.021024842116568937.\n",
      "[I 2023-11-24 18:34:07,685] Trial 5 finished with value: -0.007270067368190414 and parameters: {'classifier': 'RandomForest', 'n_estimators': 107, 'max_depth': 7}. Best is trial 2 with value: 0.021024842116568937.\n",
      "[I 2023-11-24 18:34:08,970] Trial 6 finished with value: -0.012272230086930153 and parameters: {'classifier': 'RandomForest', 'n_estimators': 119, 'max_depth': 11}. Best is trial 2 with value: 0.021024842116568937.\n",
      "[I 2023-11-24 18:34:09,403] Trial 7 finished with value: 0.021024842900401214 and parameters: {'classifier': 'LinearRegression'}. Best is trial 7 with value: 0.021024842900401214.\n",
      "[I 2023-11-24 18:34:09,504] Trial 8 finished with value: 0.0009616069548752659 and parameters: {'classifier': 'XGBoost', 'n_estimators': 142, 'max_depth': 3, 'learning_rate': 0.07633200555678514}. Best is trial 7 with value: 0.021024842900401214.\n",
      "[I 2023-11-24 18:34:09,551] Trial 9 finished with value: 0.02102484245177355 and parameters: {'classifier': 'Ridge', 'alpha': 2.8653198624043106}. Best is trial 7 with value: 0.021024842900401214.\n",
      "[I 2023-11-24 18:34:09,553] A new study created in memory with name: no-name-b35ebc6f-1a45-4046-a08b-811b1d625ced\n",
      "[I 2023-11-24 18:34:09,574] Trial 0 finished with value: -0.02572971360763454 and parameters: {'classifier': 'Ridge', 'alpha': 9.05858232295739}. Best is trial 0 with value: -0.02572971360763454.\n"
     ]
    },
    {
     "name": "stdout",
     "output_type": "stream",
     "text": [
      "\n",
      "File being processed in hyperparameter optimization:\n",
      " ./data/ds_embeddings/shalem_15/reduced_embeddings/pca_components_5.npy\n"
     ]
    },
    {
     "name": "stderr",
     "output_type": "stream",
     "text": [
      "[I 2023-11-24 18:34:19,694] Trial 1 finished with value: -0.19223369531281848 and parameters: {'classifier': 'XGBoost', 'n_estimators': 139, 'max_depth': 20, 'learning_rate': 0.10265901129180795}. Best is trial 0 with value: -0.02572971360763454.\n",
      "[I 2023-11-24 18:34:19,744] Trial 2 finished with value: -0.02572971339957189 and parameters: {'classifier': 'Ridge', 'alpha': 9.126444679231282}. Best is trial 2 with value: -0.02572971339957189.\n",
      "[I 2023-11-24 18:34:20,476] Trial 3 finished with value: -0.00921932335002823 and parameters: {'classifier': 'RandomForest', 'n_estimators': 174, 'max_depth': 2}. Best is trial 3 with value: -0.00921932335002823.\n",
      "[I 2023-11-24 18:34:22,482] Trial 4 finished with value: -0.016172000714373636 and parameters: {'classifier': 'RandomForest', 'n_estimators': 166, 'max_depth': 12}. Best is trial 3 with value: -0.00921932335002823.\n",
      "[I 2023-11-24 18:34:22,501] Trial 5 finished with value: -0.02572974071542508 and parameters: {'classifier': 'Ridge', 'alpha': 0.21702481270955254}. Best is trial 3 with value: -0.00921932335002823.\n",
      "[I 2023-11-24 18:34:24,225] Trial 6 finished with value: -0.041610030517909125 and parameters: {'classifier': 'RandomForest', 'n_estimators': 113, 'max_depth': 17}. Best is trial 3 with value: -0.00921932335002823.\n",
      "[I 2023-11-24 18:34:26,196] Trial 7 finished with value: -0.03673902750293909 and parameters: {'classifier': 'RandomForest', 'n_estimators': 140, 'max_depth': 15}. Best is trial 3 with value: -0.00921932335002823.\n",
      "[I 2023-11-24 18:34:27,489] Trial 8 finished with value: -0.12337574536027351 and parameters: {'classifier': 'XGBoost', 'n_estimators': 111, 'max_depth': 10, 'learning_rate': 0.13512264122089046}. Best is trial 3 with value: -0.00921932335002823.\n",
      "[I 2023-11-24 18:34:27,529] Trial 9 finished with value: -0.02572971390856124 and parameters: {'classifier': 'Ridge', 'alpha': 8.960431127387201}. Best is trial 3 with value: -0.00921932335002823.\n",
      "[I 2023-11-24 18:34:27,531] A new study created in memory with name: no-name-22c1f3fb-bf28-4a70-b42c-206978794631\n",
      "[I 2023-11-24 18:34:27,649] Trial 0 finished with value: 0.004819969729891127 and parameters: {'classifier': 'Ridge', 'alpha': 8.87432472462027}. Best is trial 0 with value: 0.004819969729891127.\n"
     ]
    },
    {
     "name": "stdout",
     "output_type": "stream",
     "text": [
      "\n",
      "File being processed in hyperparameter optimization:\n",
      " ./data/ds_embeddings/shalem_15/reduced_embeddings/pca_components_10.npy\n"
     ]
    },
    {
     "name": "stderr",
     "output_type": "stream",
     "text": [
      "[I 2023-11-24 18:34:30,415] Trial 1 finished with value: 0.022932893615784433 and parameters: {'classifier': 'RandomForest', 'n_estimators': 194, 'max_depth': 7}. Best is trial 1 with value: 0.022932893615784433.\n",
      "[I 2023-11-24 18:34:31,103] Trial 2 finished with value: -0.007705396571881601 and parameters: {'classifier': 'RandomForest', 'n_estimators': 93, 'max_depth': 2}. Best is trial 1 with value: 0.022932893615784433.\n",
      "[I 2023-11-24 18:34:31,220] Trial 3 finished with value: 0.0048199415902746845 and parameters: {'classifier': 'Ridge', 'alpha': 1.280635253283002}. Best is trial 1 with value: 0.022932893615784433.\n",
      "[I 2023-11-24 18:34:32,935] Trial 4 finished with value: 0.0036835750104481646 and parameters: {'classifier': 'RandomForest', 'n_estimators': 74, 'max_depth': 13}. Best is trial 1 with value: 0.022932893615784433.\n",
      "[I 2023-11-24 18:34:33,051] Trial 5 finished with value: 0.0048199368446736335 and parameters: {'classifier': 'LinearRegression'}. Best is trial 1 with value: 0.022932893615784433.\n",
      "[I 2023-11-24 18:34:36,702] Trial 6 finished with value: 0.010560212829499621 and parameters: {'classifier': 'RandomForest', 'n_estimators': 145, 'max_depth': 17}. Best is trial 1 with value: 0.022932893615784433.\n",
      "[I 2023-11-24 18:34:36,817] Trial 7 finished with value: 0.0048199368446736335 and parameters: {'classifier': 'LinearRegression'}. Best is trial 1 with value: 0.022932893615784433.\n",
      "[I 2023-11-24 18:34:39,048] Trial 8 finished with value: 0.01782139110128883 and parameters: {'classifier': 'RandomForest', 'n_estimators': 192, 'max_depth': 5}. Best is trial 1 with value: 0.022932893615784433.\n",
      "[I 2023-11-24 18:34:39,190] Trial 9 finished with value: 0.0048199368446736335 and parameters: {'classifier': 'LinearRegression'}. Best is trial 1 with value: 0.022932893615784433.\n",
      "[I 2023-11-24 18:34:39,199] A new study created in memory with name: no-name-edc5cbd8-366d-46d7-b51d-c50a2725c86b\n",
      "[I 2023-11-24 18:34:39,390] Trial 0 finished with value: -0.011176562522744765 and parameters: {'classifier': 'Ridge', 'alpha': 9.05657933982712}. Best is trial 0 with value: -0.011176562522744765.\n"
     ]
    },
    {
     "name": "stdout",
     "output_type": "stream",
     "text": [
      "\n",
      "File being processed in hyperparameter optimization:\n",
      " ./data/ds_embeddings/shalem_15/reduced_embeddings/pca_components_150.npy\n"
     ]
    },
    {
     "name": "stderr",
     "output_type": "stream",
     "text": [
      "[I 2023-11-24 18:34:40,690] Trial 1 finished with value: 0.025901024256655913 and parameters: {'classifier': 'XGBoost', 'n_estimators': 70, 'max_depth': 2, 'learning_rate': 0.049843933816997074}. Best is trial 1 with value: 0.025901024256655913.\n",
      "[I 2023-11-24 18:35:41,421] Trial 2 finished with value: 0.03824891924932497 and parameters: {'classifier': 'RandomForest', 'n_estimators': 193, 'max_depth': 17}. Best is trial 2 with value: 0.03824891924932497.\n",
      "[I 2023-11-24 18:35:41,616] Trial 3 finished with value: -0.011179465407381961 and parameters: {'classifier': 'LinearRegression'}. Best is trial 2 with value: 0.03824891924932497.\n",
      "[I 2023-11-24 18:35:41,773] Trial 4 finished with value: -0.011179376222098247 and parameters: {'classifier': 'Ridge', 'alpha': 0.2782402859440637}. Best is trial 2 with value: 0.03824891924932497.\n",
      "[I 2023-11-24 18:38:27,282] Trial 5 finished with value: -0.07196589848020235 and parameters: {'classifier': 'XGBoost', 'n_estimators': 108, 'max_depth': 19, 'learning_rate': 0.17661365752975586}. Best is trial 2 with value: 0.03824891924932497.\n",
      "[I 2023-11-24 18:38:27,442] Trial 6 finished with value: -0.01117937933208818 and parameters: {'classifier': 'Ridge', 'alpha': 0.26853773376050716}. Best is trial 2 with value: 0.03824891924932497.\n",
      "[I 2023-11-24 18:38:27,603] Trial 7 finished with value: -0.011177678229769866 and parameters: {'classifier': 'Ridge', 'alpha': 5.575696383241601}. Best is trial 2 with value: 0.03824891924932497.\n",
      "[I 2023-11-24 18:38:29,092] Trial 8 finished with value: 0.05523647093202866 and parameters: {'classifier': 'XGBoost', 'n_estimators': 146, 'max_depth': 1, 'learning_rate': 0.18056728466840513}. Best is trial 8 with value: 0.05523647093202866.\n",
      "[I 2023-11-24 18:38:57,299] Trial 9 finished with value: 0.04329513625461928 and parameters: {'classifier': 'XGBoost', 'n_estimators': 152, 'max_depth': 8, 'learning_rate': 0.060565805661061796}. Best is trial 8 with value: 0.05523647093202866.\n"
     ]
    },
    {
     "name": "stdout",
     "output_type": "stream",
     "text": [
      "Results saved to ./data/optuna_results/optuna_results.json\n"
     ]
    }
   ],
   "source": [
    "# Run the optimization\n",
    "optimizer.optimization_wrapper()"
   ]
  }
 ],
 "metadata": {
  "kernelspec": {
   "display_name": "Python 3",
   "language": "python",
   "name": "python3"
  },
  "language_info": {
   "codemirror_mode": {
    "name": "ipython",
    "version": 3
   },
   "file_extension": ".py",
   "mimetype": "text/x-python",
   "name": "python",
   "nbconvert_exporter": "python",
   "pygments_lexer": "ipython3",
   "version": "3.9.18"
  }
 },
 "nbformat": 4,
 "nbformat_minor": 2
}
